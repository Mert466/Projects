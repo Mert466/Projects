{
 "cells": [
  {
   "cell_type": "markdown",
   "id": "79c96dd6",
   "metadata": {},
   "source": [
    "# Einlesen der Testdatensätze und Anpassung der Daten"
   ]
  },
  {
   "cell_type": "code",
   "execution_count": 1,
   "id": "cec1841e",
   "metadata": {},
   "outputs": [
    {
     "name": "stdout",
     "output_type": "stream",
     "text": [
      "ID 1\n",
      "St 48    229\n",
      "St 37     24\n",
      "StSi       9\n",
      "Name: count, dtype: int64\n"
     ]
    }
   ],
   "source": [
    "import pandas as pd\n",
    "from sklearn.preprocessing import FunctionTransformer\n",
    "from sklearn.decomposition import PCA\n",
    "from sklearn.cluster import AffinityPropagation\n",
    "from sklearn.metrics import adjusted_rand_score, pairwise_distances\n",
    "import numpy as np\n",
    "import warnings\n",
    "from sklearn import metrics\n",
    "from sklearn.manifold import TSNE\n",
    "import matplotlib.pyplot as plt\n",
    "\n",
    "df_test = pd.read_csv('test_data.csv')\n",
    "\n",
    "# Writing a function to map the St 48 and St 37 variants to just St 48 and St 37\n",
    "\n",
    "def map_variants(dataframe, column_name):\n",
    "    # Mapping logic: If the value in the specified column contains 'St 48' or 'St 37', \n",
    "    # map it to just 'St 48' or 'St 37' respectively.\n",
    "    dataframe[column_name] = dataframe[column_name].apply(lambda x: 'St 48' if '48' in x else ('St 37' if '37' in x else x))\n",
    "    return dataframe\n",
    "\n",
    "# Apply the function to the 'ID 1' column of the dataframe\n",
    "data_mapped = map_variants(df_test, 'ID 1')\n",
    "\n",
    "pd.set_option('display.max_rows', 500)\n",
    "print(df_test['ID 1'].value_counts())\n",
    "\n",
    "features = df_test.drop(['ID 1', 'Grade'], axis=1)\n",
    "scaler = FunctionTransformer(np.log1p, validate=True)\n",
    "df_scaled = scaler.fit_transform(features)\n",
    "df_scaled = pd.DataFrame(df_scaled)\n",
    "#pd.DataFrame(-pairwise_distances(df_scaled,metric='l1').round(2)).mode(axis=1).min().min()"
   ]
  },
  {
   "cell_type": "markdown",
   "id": "d5e40893",
   "metadata": {},
   "source": [
    "# Affinity Propagation Algorithmus mit verschiedenen Evaluationsmetriken"
   ]
  },
  {
   "cell_type": "markdown",
   "id": "983cc848",
   "metadata": {},
   "source": [
    "Algorithmus kann auch mit PCA ausgeführt werden, jedoch hat sich bei den unten aufgeführten Testdurchläufen ergeben, dass ohne PCA in den meisten Fällen bessere Ergebnisse erzielt werden"
   ]
  },
  {
   "cell_type": "code",
   "execution_count": 30,
   "id": "87935e91",
   "metadata": {
    "scrolled": true
   },
   "outputs": [],
   "source": [
    "def affinity_propagation(data):    \n",
    "    #pca = PCA(n_components=3) \n",
    "    #df_pca = pca.fit_transform(data)\n",
    "\n",
    "    labels_true = df_test['ID 1'].astype('category').cat.codes\n",
    "    algorithm = AffinityPropagation(damping=0.6, preference=0.6*np.min(-pairwise_distances(data, metric='l1')))\n",
    "    algorithm.fit(data)\n",
    "    labels = algorithm.labels_\n",
    "    #data['Cluster'] = labels\n",
    "    #data['true'] = df_test['ID 1']\n",
    "    #return data.iloc[:,23:25]\n",
    "    n_clusters = len(np.unique(labels))\n",
    "    print(\"Estimated number of clusters: %d\" % n_clusters)\n",
    "    print(\"Homogeneity: %0.3f\" % metrics.homogeneity_score(labels_true, labels))\n",
    "    print(\"Completeness: %0.3f\" % metrics.completeness_score(labels_true, labels))\n",
    "    print(\"V-measure: %0.3f\" % metrics.v_measure_score(labels_true, labels))\n",
    "    print(\"Adjusted Rand Index: %0.3f\" % metrics.adjusted_rand_score(labels_true, labels))\n",
    "    print(\n",
    "    \"Adjusted Mutual Information: %0.3f\"\n",
    "    % metrics.adjusted_mutual_info_score(labels_true, labels)\n",
    "    )\n",
    "    print(\n",
    "    \"Silhouette Coefficient: %0.3f\"\n",
    "    % metrics.silhouette_score(df_scaled, labels, metric=\"sqeuclidean\")\n",
    "    )"
   ]
  },
  {
   "cell_type": "code",
   "execution_count": 31,
   "id": "0e8876e8",
   "metadata": {},
   "outputs": [
    {
     "name": "stdout",
     "output_type": "stream",
     "text": [
      "Estimated number of clusters: 3\n",
      "Homogeneity: 0.773\n",
      "Completeness: 0.612\n",
      "V-measure: 0.683\n",
      "Adjusted Rand Index: 0.722\n",
      "Adjusted Mutual Information: 0.678\n",
      "Silhouette Coefficient: 0.610\n"
     ]
    }
   ],
   "source": [
    "affinity_propagation(df_scaled)"
   ]
  },
  {
   "cell_type": "markdown",
   "id": "2d5a4228",
   "metadata": {},
   "source": [
    "Da diese Optimierung von mir nur auf den zwei vorhandenen Datensätzen probiert wurde und die Datensätze nicht sehr umfangreich sind, ist hier natürlich die Gefahr für Overfitting hoch. Wenn neue Datensätze dazukommen, muss man entsprechend anpassen."
   ]
  },
  {
   "cell_type": "code",
   "execution_count": 8,
   "id": "474c686d",
   "metadata": {
    "scrolled": true
   },
   "outputs": [
    {
     "data": {
      "text/plain": [
       "('l1',\n",
       " 0.7224176034057344,\n",
       " 3,\n",
       " 0.6000000000000001,\n",
       " -0.8936924343096005,\n",
       " 0.6000000000000001)"
      ]
     },
     "execution_count": 8,
     "metadata": {},
     "output_type": "execute_result"
    }
   ],
   "source": [
    "def optimize_affinity_propagation_advanced(data):\n",
    "    true_labels = df_test['ID 1'].astype('category').cat.codes\n",
    "\n",
    "    # List of metrics to try\n",
    "    metrics = ['euclidean', 'l2', 'l1', 'manhattan', 'cityblock', 'chebyshev', 'hamming', 'matching', 'minkowski', 'nan_euclidean']\n",
    "    best_score = 0\n",
    "    best_metric = \"\"\n",
    "    best_n_clusters = 0\n",
    "    best_damping = 0\n",
    "    best_preference = 0\n",
    "\n",
    "    # Iterate over metrics, damping factors, and preference values\n",
    "    for metric in metrics:\n",
    "        for damping in np.arange(0.5, 0.7, 0.01):\n",
    "            for preference_scale in np.arange(0.5, 1, 0.02):\n",
    "                try:\n",
    "                    # Calculate preference based on the metric\n",
    "                    preference = preference_scale * np.min(-pairwise_distances(data, metric=metric))\n",
    "\n",
    "                    # Apply Affinity Propagation\n",
    "                    algorithm = AffinityPropagation(damping=damping, preference=preference, max_iter=200, convergence_iter=15)\n",
    "                    algorithm.fit(data)\n",
    "                    labels = algorithm.labels_\n",
    "                    n_clusters = len(np.unique(labels))\n",
    "\n",
    "                    # Calculate ARI score\n",
    "                    ari_score = adjusted_rand_score(true_labels, labels)\n",
    "\n",
    "                    # Update best parameters if current ARI score is better\n",
    "                    if ari_score > best_score:\n",
    "                        best_score = ari_score\n",
    "                        best_metric = metric\n",
    "                        best_n_clusters = n_clusters\n",
    "                        best_damping = damping\n",
    "                        best_preference = preference\n",
    "                        best_scale = preference_scale\n",
    "\n",
    "                except Exception as e:\n",
    "                    print(f\"Error with metric {metric}, damping {damping}, preference scale {preference_scale}: {e}\")\n",
    "\n",
    "    return best_metric, best_score, best_n_clusters, best_damping, best_preference, best_scale\n",
    "\n",
    "best_metric, best_score, best_n_clusters, best_damping, best_preference, best_scale = optimize_affinity_propagation_advanced(df_scaled)\n",
    "best_metric, best_score, best_n_clusters, best_damping, best_preference, best_scale\n",
    "\n"
   ]
  }
 ],
 "metadata": {
  "kernelspec": {
   "display_name": "Python 3 (ipykernel)",
   "language": "python",
   "name": "python3"
  },
  "language_info": {
   "codemirror_mode": {
    "name": "ipython",
    "version": 3
   },
   "file_extension": ".py",
   "mimetype": "text/x-python",
   "name": "python",
   "nbconvert_exporter": "python",
   "pygments_lexer": "ipython3",
   "version": "3.11.5"
  }
 },
 "nbformat": 4,
 "nbformat_minor": 5
}
