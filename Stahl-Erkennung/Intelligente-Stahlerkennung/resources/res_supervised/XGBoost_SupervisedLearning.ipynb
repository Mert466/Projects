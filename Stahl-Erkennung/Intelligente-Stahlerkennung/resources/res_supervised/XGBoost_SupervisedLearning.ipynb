{
 "cells": [
  {
   "cell_type": "markdown",
   "id": "766a36b2-60fc-44c4-ad6b-63061a7d017c",
   "metadata": {},
   "source": [
    "# XGBoosting Algorithm for steel calssification\n"
   ]
  },
  {
   "cell_type": "markdown",
   "id": "bd06478f-95c1-4507-b80d-46085f5a3048",
   "metadata": {},
   "source": [
    "<br>"
   ]
  },
  {
   "cell_type": "markdown",
   "id": "90b4a1d4-5dba-460c-be1c-75a5594e753e",
   "metadata": {},
   "source": [
    "This is a protocol on how we built a first XGBoost-Model to classify steel types. It is a hands-on approach based on the labeled_OES_data.csv-File and differs from the final code implemented in our Project. "
   ]
  },
  {
   "cell_type": "code",
   "execution_count": 2,
   "id": "ae4e27d0-9432-4e94-b328-05ee92b8d21d",
   "metadata": {},
   "outputs": [],
   "source": [
    "import pandas as pd\n",
    "import xgboost as xgb\n",
    "from sklearn.model_selection import train_test_split\n",
    "from sklearn.metrics import accuracy_score, classification_report"
   ]
  },
  {
   "cell_type": "markdown",
   "id": "536f6b78-bee2-4ef3-a49a-669f91a53ff7",
   "metadata": {},
   "source": [
    "## 1. Load  and prepare data"
   ]
  },
  {
   "cell_type": "code",
   "execution_count": 3,
   "id": "a79f28b8-7496-42cf-8e7e-90d49789f575",
   "metadata": {},
   "outputs": [],
   "source": [
    "# Read labeled_OES_data.csv\n",
    "data = pd.read_csv(\"labeled_OES_data.csv\")\n",
    "\n",
    "# convert steel types to numbers\n",
    "# Note: in our project steel types are not predefined, but will be extracted from the supplied file of data\n",
    "classes_dict = {\"St 48\" : 0, \"St 37\" : 1, \"St Si\" : 2, \"Flussstahl\" : 3, \"Puddelstahl\" : 4}\n",
    "data[\"steel_class\"] = [classes_dict[c] for c in data[\"steel_class\"] ]    \n",
    "\n",
    "# make data numeric\n",
    "for column in data.columns:\n",
    "        for index, value in data[column].items():\n",
    "            if isinstance(value, str):\n",
    "                data.at[index, column] = value.replace(\",\", \".\")\n",
    "data = data.map(pd.to_numeric)"
   ]
  },
  {
   "cell_type": "code",
   "execution_count": 4,
   "id": "6d3dd80a-792e-46b2-8062-52ac92ec67ca",
   "metadata": {},
   "outputs": [],
   "source": [
    "# create X and y\n",
    "X = data.drop(columns=\"steel_class\")\n",
    "y = data[\"steel_class\"]\n",
    "\n",
    "# create training and testing data\n",
    "X_train, X_test, y_train, y_test = train_test_split(X, y, test_size=0.2, random_state=42)"
   ]
  },
  {
   "cell_type": "markdown",
   "id": "e85ef1e1-d563-487f-8e8d-1b8609fbeda1",
   "metadata": {},
   "source": [
    "<br>"
   ]
  },
  {
   "cell_type": "markdown",
   "id": "64db8a6b-bcd1-496c-a765-82d912e099d0",
   "metadata": {},
   "source": [
    "## 2. Build XGBoost"
   ]
  },
  {
   "cell_type": "markdown",
   "id": "99637fe5-0d21-485a-bbb8-2a8952f4d21b",
   "metadata": {},
   "source": [
    "XGBoost (Extreme Gradient Boosting) is an ensemble learning algorithm based on decision trees as weak learners. Each decision tree is created to correct the error of its parent. XGB uses gradient descent to optimize the loss function and regularization to prevent overfitting. In other multi-classification problems XGBoost has proven to be a robust and accurate model, which is why we decided to apply it."
   ]
  },
  {
   "cell_type": "markdown",
   "id": "491b17c1-dcb2-4868-a1da-4a4862474817",
   "metadata": {},
   "source": [
    "<br>"
   ]
  },
  {
   "cell_type": "markdown",
   "id": "dafd01e1-ea4b-4d02-ad62-2371f8afc408",
   "metadata": {},
   "source": [
    "### XGBoost-Classifier"
   ]
  },
  {
   "cell_type": "markdown",
   "id": "f1c77115-6ef7-478d-af59-46bbca6bdf4f",
   "metadata": {},
   "source": [
    "In the following we go over parameters that are useful in our case:"
   ]
  },
  {
   "cell_type": "markdown",
   "id": "fde9da9e-2a5a-4d4b-8939-d8c115a8eb5c",
   "metadata": {},
   "source": [
    "- **n_estimators** (default = 100): the number of trees to build \n",
    "- **learning_rate** (default = 0.1): factor scaling the contribution of each tree. The lower the value the more robust the model (requires higher number of trees though)\n",
    "- **max_depth** (default = 3): maximum depth of each tree in the ensemble\n",
    "- **gamma** (default = 0): minimum loss reduction required to make further partition of a leaf node\n",
    "- **reg_lambda** (default = 1): controls the amount of regularization applied to the weights of the features in each tree\n",
    "- **objective**: specifies the learning task\n",
    "- in our case of multi-classification the Classifier needs additionaly **num_classe**: Number of classes that the data need to be categorized in"
   ]
  },
  {
   "cell_type": "markdown",
   "id": "a799ea92-66b9-4f94-b5ae-3bd327e434dc",
   "metadata": {},
   "source": [
    "<br>"
   ]
  },
  {
   "cell_type": "markdown",
   "id": "a1eaccbf-859a-4b0c-8db0-9efb11f9b399",
   "metadata": {},
   "source": [
    "To get a first idea how the Algorithm is performing we let it run with only using the nessecary parameters."
   ]
  },
  {
   "cell_type": "code",
   "execution_count": 5,
   "id": "f9310d8b-643a-4595-8ca8-8e66145d709b",
   "metadata": {},
   "outputs": [
    {
     "data": {
      "text/html": [
       "<style>#sk-container-id-1 {color: black;}#sk-container-id-1 pre{padding: 0;}#sk-container-id-1 div.sk-toggleable {background-color: white;}#sk-container-id-1 label.sk-toggleable__label {cursor: pointer;display: block;width: 100%;margin-bottom: 0;padding: 0.3em;box-sizing: border-box;text-align: center;}#sk-container-id-1 label.sk-toggleable__label-arrow:before {content: \"▸\";float: left;margin-right: 0.25em;color: #696969;}#sk-container-id-1 label.sk-toggleable__label-arrow:hover:before {color: black;}#sk-container-id-1 div.sk-estimator:hover label.sk-toggleable__label-arrow:before {color: black;}#sk-container-id-1 div.sk-toggleable__content {max-height: 0;max-width: 0;overflow: hidden;text-align: left;background-color: #f0f8ff;}#sk-container-id-1 div.sk-toggleable__content pre {margin: 0.2em;color: black;border-radius: 0.25em;background-color: #f0f8ff;}#sk-container-id-1 input.sk-toggleable__control:checked~div.sk-toggleable__content {max-height: 200px;max-width: 100%;overflow: auto;}#sk-container-id-1 input.sk-toggleable__control:checked~label.sk-toggleable__label-arrow:before {content: \"▾\";}#sk-container-id-1 div.sk-estimator input.sk-toggleable__control:checked~label.sk-toggleable__label {background-color: #d4ebff;}#sk-container-id-1 div.sk-label input.sk-toggleable__control:checked~label.sk-toggleable__label {background-color: #d4ebff;}#sk-container-id-1 input.sk-hidden--visually {border: 0;clip: rect(1px 1px 1px 1px);clip: rect(1px, 1px, 1px, 1px);height: 1px;margin: -1px;overflow: hidden;padding: 0;position: absolute;width: 1px;}#sk-container-id-1 div.sk-estimator {font-family: monospace;background-color: #f0f8ff;border: 1px dotted black;border-radius: 0.25em;box-sizing: border-box;margin-bottom: 0.5em;}#sk-container-id-1 div.sk-estimator:hover {background-color: #d4ebff;}#sk-container-id-1 div.sk-parallel-item::after {content: \"\";width: 100%;border-bottom: 1px solid gray;flex-grow: 1;}#sk-container-id-1 div.sk-label:hover label.sk-toggleable__label {background-color: #d4ebff;}#sk-container-id-1 div.sk-serial::before {content: \"\";position: absolute;border-left: 1px solid gray;box-sizing: border-box;top: 0;bottom: 0;left: 50%;z-index: 0;}#sk-container-id-1 div.sk-serial {display: flex;flex-direction: column;align-items: center;background-color: white;padding-right: 0.2em;padding-left: 0.2em;position: relative;}#sk-container-id-1 div.sk-item {position: relative;z-index: 1;}#sk-container-id-1 div.sk-parallel {display: flex;align-items: stretch;justify-content: center;background-color: white;position: relative;}#sk-container-id-1 div.sk-item::before, #sk-container-id-1 div.sk-parallel-item::before {content: \"\";position: absolute;border-left: 1px solid gray;box-sizing: border-box;top: 0;bottom: 0;left: 50%;z-index: -1;}#sk-container-id-1 div.sk-parallel-item {display: flex;flex-direction: column;z-index: 1;position: relative;background-color: white;}#sk-container-id-1 div.sk-parallel-item:first-child::after {align-self: flex-end;width: 50%;}#sk-container-id-1 div.sk-parallel-item:last-child::after {align-self: flex-start;width: 50%;}#sk-container-id-1 div.sk-parallel-item:only-child::after {width: 0;}#sk-container-id-1 div.sk-dashed-wrapped {border: 1px dashed gray;margin: 0 0.4em 0.5em 0.4em;box-sizing: border-box;padding-bottom: 0.4em;background-color: white;}#sk-container-id-1 div.sk-label label {font-family: monospace;font-weight: bold;display: inline-block;line-height: 1.2em;}#sk-container-id-1 div.sk-label-container {text-align: center;}#sk-container-id-1 div.sk-container {/* jupyter's `normalize.less` sets `[hidden] { display: none; }` but bootstrap.min.css set `[hidden] { display: none !important; }` so we also need the `!important` here to be able to override the default hidden behavior on the sphinx rendered scikit-learn.org. See: https://github.com/scikit-learn/scikit-learn/issues/21755 */display: inline-block !important;position: relative;}#sk-container-id-1 div.sk-text-repr-fallback {display: none;}</style><div id=\"sk-container-id-1\" class=\"sk-top-container\"><div class=\"sk-text-repr-fallback\"><pre>XGBClassifier(base_score=None, booster=None, callbacks=None,\n",
       "              colsample_bylevel=None, colsample_bynode=None,\n",
       "              colsample_bytree=None, device=None, early_stopping_rounds=None,\n",
       "              enable_categorical=False, eval_metric=None, feature_types=None,\n",
       "              gamma=None, grow_policy=None, importance_type=None,\n",
       "              interaction_constraints=None, learning_rate=None, max_bin=None,\n",
       "              max_cat_threshold=None, max_cat_to_onehot=None,\n",
       "              max_delta_step=None, max_depth=None, max_leaves=None,\n",
       "              min_child_weight=None, missing=nan, monotone_constraints=None,\n",
       "              multi_strategy=None, n_estimators=None, n_jobs=None, num_class=5,\n",
       "              num_parallel_tree=None, ...)</pre><b>In a Jupyter environment, please rerun this cell to show the HTML representation or trust the notebook. <br />On GitHub, the HTML representation is unable to render, please try loading this page with nbviewer.org.</b></div><div class=\"sk-container\" hidden><div class=\"sk-item\"><div class=\"sk-estimator sk-toggleable\"><input class=\"sk-toggleable__control sk-hidden--visually\" id=\"sk-estimator-id-1\" type=\"checkbox\" checked><label for=\"sk-estimator-id-1\" class=\"sk-toggleable__label sk-toggleable__label-arrow\">XGBClassifier</label><div class=\"sk-toggleable__content\"><pre>XGBClassifier(base_score=None, booster=None, callbacks=None,\n",
       "              colsample_bylevel=None, colsample_bynode=None,\n",
       "              colsample_bytree=None, device=None, early_stopping_rounds=None,\n",
       "              enable_categorical=False, eval_metric=None, feature_types=None,\n",
       "              gamma=None, grow_policy=None, importance_type=None,\n",
       "              interaction_constraints=None, learning_rate=None, max_bin=None,\n",
       "              max_cat_threshold=None, max_cat_to_onehot=None,\n",
       "              max_delta_step=None, max_depth=None, max_leaves=None,\n",
       "              min_child_weight=None, missing=nan, monotone_constraints=None,\n",
       "              multi_strategy=None, n_estimators=None, n_jobs=None, num_class=5,\n",
       "              num_parallel_tree=None, ...)</pre></div></div></div></div></div>"
      ],
      "text/plain": [
       "XGBClassifier(base_score=None, booster=None, callbacks=None,\n",
       "              colsample_bylevel=None, colsample_bynode=None,\n",
       "              colsample_bytree=None, device=None, early_stopping_rounds=None,\n",
       "              enable_categorical=False, eval_metric=None, feature_types=None,\n",
       "              gamma=None, grow_policy=None, importance_type=None,\n",
       "              interaction_constraints=None, learning_rate=None, max_bin=None,\n",
       "              max_cat_threshold=None, max_cat_to_onehot=None,\n",
       "              max_delta_step=None, max_depth=None, max_leaves=None,\n",
       "              min_child_weight=None, missing=nan, monotone_constraints=None,\n",
       "              multi_strategy=None, n_estimators=None, n_jobs=None, num_class=5,\n",
       "              num_parallel_tree=None, ...)"
      ]
     },
     "execution_count": 5,
     "metadata": {},
     "output_type": "execute_result"
    }
   ],
   "source": [
    "# Given are steel types: St48, St 37, StSi, Flussstahl, Puddelstahl -> num_class = 5\n",
    "# Note: in our Project num_classes is dependent on the supplied file which is used to train the model\n",
    "\n",
    "# create Classifier\n",
    "model = xgb.XGBClassifier(objective=\"multi:softmax\", num_class=5)\n",
    "\n",
    "# train model\n",
    "model.fit(X_train, y_train)"
   ]
  },
  {
   "cell_type": "markdown",
   "id": "a594de78-63ea-4509-86ca-f64ad5c9e11d",
   "metadata": {},
   "source": [
    "<br>"
   ]
  },
  {
   "cell_type": "markdown",
   "id": "9a5c03e1-82b7-4d71-8f65-06cbbb1972fc",
   "metadata": {},
   "source": [
    "## 3. Make Prediction"
   ]
  },
  {
   "cell_type": "markdown",
   "id": "0b59087a-476a-42a5-8f37-ab48cf51de9a",
   "metadata": {},
   "source": [
    "We do our first prediction to get an initial performance."
   ]
  },
  {
   "cell_type": "code",
   "execution_count": 6,
   "id": "b311c38c-983c-437f-b225-982eaf4cb4cd",
   "metadata": {},
   "outputs": [],
   "source": [
    "y_pred = model.predict(X_test)"
   ]
  },
  {
   "cell_type": "markdown",
   "id": "98b68e03-595b-48a1-b008-9af1c05b72ca",
   "metadata": {},
   "source": [
    "<br>"
   ]
  },
  {
   "cell_type": "markdown",
   "id": "6a7339c1-7e41-43fe-a3e8-4fd02d68b44d",
   "metadata": {},
   "source": [
    "We print the result to get a rough idea of the predictions."
   ]
  },
  {
   "cell_type": "code",
   "execution_count": 7,
   "id": "a0f015a3-15d3-4d68-b273-0c2a6690cfa3",
   "metadata": {},
   "outputs": [
    {
     "name": "stdout",
     "output_type": "stream",
     "text": [
      "     Actual  Predicted\n",
      "395       0          0\n",
      "78        0          0\n",
      "278       2          2\n",
      "305       0          0\n",
      "325       2          2\n",
      "..      ...        ...\n",
      "57        0          0\n",
      "137       1          1\n",
      "24        0          0\n",
      "17        0          0\n",
      "66        0          0\n",
      "\n",
      "[88 rows x 2 columns]\n"
     ]
    }
   ],
   "source": [
    "results_df = pd.DataFrame({\"Actual\": y_test, \"Predicted\": y_pred})\n",
    "print(results_df)"
   ]
  },
  {
   "cell_type": "markdown",
   "id": "755e7d7e-5050-4938-abbb-03efe4a4ce7b",
   "metadata": {},
   "source": [
    "<br>"
   ]
  },
  {
   "cell_type": "markdown",
   "id": "35531be7-5f3c-430a-b3fe-4a3b98584141",
   "metadata": {},
   "source": [
    "## 4. Estimate of performance with 9-fold Cross-Validation"
   ]
  },
  {
   "cell_type": "markdown",
   "id": "a730a68f-8f14-4db2-a19d-28e83757a5e8",
   "metadata": {},
   "source": [
    "<br>"
   ]
  },
  {
   "cell_type": "markdown",
   "id": "19df15d7-50ad-44a3-b279-1ac556694d29",
   "metadata": {},
   "source": [
    " The least populated class in y has only 9 members, so we do a 9-fold Cross-Validation"
   ]
  },
  {
   "cell_type": "code",
   "execution_count": 8,
   "id": "af053fdf-c15e-4deb-9daf-728ae320c515",
   "metadata": {},
   "outputs": [],
   "source": [
    "from sklearn.model_selection import cross_val_score"
   ]
  },
  {
   "cell_type": "code",
   "execution_count": 14,
   "id": "6dcbdb01-f6d6-4164-9d38-0ca47464fc5f",
   "metadata": {},
   "outputs": [
    {
     "data": {
      "text/plain": [
       "0.9633408919123205"
      ]
     },
     "execution_count": 14,
     "metadata": {},
     "output_type": "execute_result"
    }
   ],
   "source": [
    "score_array = cross_val_score(xgb.XGBClassifier(objective=\"multi:softmax\", num_class=5), X, y, cv=9)\n",
    "sum(score_array)/len(score_array)"
   ]
  },
  {
   "cell_type": "markdown",
   "id": "dd1ed28a-2055-496f-ac30-f0c8b3e3f33d",
   "metadata": {},
   "source": [
    "The initial Classifier already has an accuracy of 96.33%, which is already a satisfactory performance."
   ]
  },
  {
   "cell_type": "markdown",
   "id": "746c255c-c716-441d-a07c-395e3f1100ca",
   "metadata": {},
   "source": [
    "<br>"
   ]
  },
  {
   "cell_type": "markdown",
   "id": "2a094b2d-552f-454c-bbbf-8db25ec75f8f",
   "metadata": {},
   "source": [
    "## 5. Hyperparameter Optimization"
   ]
  },
  {
   "cell_type": "markdown",
   "id": "0209f522-686b-4391-8cef-612b72bf3635",
   "metadata": {},
   "source": [
    "<br>"
   ]
  },
  {
   "cell_type": "markdown",
   "id": "e190a357-de0a-4abe-9815-b9d2b0c32bfb",
   "metadata": {},
   "source": [
    "To improve the performance even further we do a Hyperparameter Optimization, where we figure out other values for the parameters described in the introduction of the XGB-Classifier"
   ]
  },
  {
   "cell_type": "code",
   "execution_count": 22,
   "id": "4a308e22-4255-44cb-aea5-66922f10e203",
   "metadata": {},
   "outputs": [],
   "source": [
    "# Random parameters that we going to try to get to the best score\n",
    "\n",
    "test_parameter={\n",
    " \"n_estimators\"     : [100, 200, 500, 1000],\n",
    " \"learning_rate\"    : [0.05, 0.01, 0.1, 1] ,\n",
    " \"max_depth\"        : [2, 3, 4, 5],\n",
    " \"gamma\"            : [0, 0.01, 0.1, 0.3],\n",
    " \"reg_lambda\"       : [0, 1, 10, 20],\n",
    "}"
   ]
  },
  {
   "cell_type": "markdown",
   "id": "e305ad39-1155-4c68-8466-94b97a3f6f63",
   "metadata": {},
   "source": [
    "GridSearch is used to automate the process of tuning parameters. It searches through our test_parameter variable and returns the combination of parameters which returns the best performance."
   ]
  },
  {
   "cell_type": "code",
   "execution_count": 11,
   "id": "7d723523-e04d-4905-ba6a-1f5edc42ad93",
   "metadata": {},
   "outputs": [],
   "source": [
    "from sklearn.model_selection import GridSearchCV"
   ]
  },
  {
   "cell_type": "code",
   "execution_count": 23,
   "id": "9d70da44-3046-4718-91fb-7a2a3e609a23",
   "metadata": {},
   "outputs": [
    {
     "name": "stdout",
     "output_type": "stream",
     "text": [
      "{'gamma': 0.1, 'learning_rate': 1, 'max_depth': 3, 'n_estimators': 100, 'reg_lambda': 20}\n"
     ]
    }
   ],
   "source": [
    "\n",
    "gsv = GridSearchCV(\n",
    "    estimator=xgb.XGBClassifier(objective=\"multi:softmax\", num_class=5), \n",
    "    param_grid=test_parameter, scoring=\"accuracy\", cv=9, n_jobs=-1, verbose=0)\n",
    "gsv.fit(X,y)\n",
    "print(gsv.best_params_)"
   ]
  },
  {
   "cell_type": "markdown",
   "id": "58d2aa85-716f-4cd6-afcd-5d621eb21607",
   "metadata": {},
   "source": [
    "<br>"
   ]
  },
  {
   "cell_type": "markdown",
   "id": "b7ae0d88-74f7-4be6-8c2f-43ade2ac3fec",
   "metadata": {},
   "source": [
    "## 6. Redo Cross Validation with new XGBClassifier"
   ]
  },
  {
   "cell_type": "markdown",
   "id": "5784b3d1-71c1-45be-a7ac-68ed03f32637",
   "metadata": {},
   "source": [
    "<br>"
   ]
  },
  {
   "cell_type": "markdown",
   "id": "125a7169-f372-42ea-86a5-1b9c4152ce9b",
   "metadata": {},
   "source": [
    "To get the final evaluation of our model with the improved parameters we do another cross validation:"
   ]
  },
  {
   "cell_type": "code",
   "execution_count": 26,
   "id": "54ecbefc-873f-4477-9983-f83ad9b48e84",
   "metadata": {},
   "outputs": [
    {
     "data": {
      "text/plain": [
       "0.9725056689342403"
      ]
     },
     "execution_count": 26,
     "metadata": {},
     "output_type": "execute_result"
    }
   ],
   "source": [
    "score_array = cross_val_score(xgb.XGBClassifier(objective=\"multi:softmax\", num_class=5, n_estimators=100, max_depth=3, learning_rate=1, gamma=0.1, reg_lambda=20), X, y, cv=9)\n",
    "\n",
    "sum(score_array)/len(score_array)"
   ]
  },
  {
   "cell_type": "markdown",
   "id": "b5a6d804-ff21-433b-9a71-2c721d447f9a",
   "metadata": {},
   "source": [
    "Thanks to the Hyperparameter Optimization we were able to push the accuracy from 96.33% to 97.25%"
   ]
  },
  {
   "cell_type": "markdown",
   "id": "7fc5f43e-a034-4bdf-b534-43aef109f4dc",
   "metadata": {},
   "source": [
    "<br>"
   ]
  },
  {
   "cell_type": "markdown",
   "id": "7acbff45-7743-4505-87d6-ecae7943bed1",
   "metadata": {},
   "source": [
    "## 7. Further Evaluation of the improved XGB-Classifier"
   ]
  },
  {
   "cell_type": "markdown",
   "id": "8b7ebc66-5bd8-407c-97d0-ab15e21ad9d1",
   "metadata": {},
   "source": [
    "<br>"
   ]
  },
  {
   "cell_type": "code",
   "execution_count": 28,
   "id": "86120948-2cd7-413e-b71c-ee468d9c03e9",
   "metadata": {},
   "outputs": [
    {
     "name": "stdout",
     "output_type": "stream",
     "text": [
      "     Actual  Predicted\n",
      "395       0          0\n",
      "78        0          0\n",
      "278       2          2\n",
      "305       0          0\n",
      "325       2          2\n",
      "..      ...        ...\n",
      "57        0          0\n",
      "137       1          1\n",
      "24        0          0\n",
      "17        0          0\n",
      "66        0          0\n",
      "\n",
      "[88 rows x 2 columns]\n"
     ]
    }
   ],
   "source": [
    "#build and train new improved xgb model\n",
    "improved_XGB_model = xgb.XGBClassifier(objective=\"multi:softmax\", num_class=5, n_estimators=100, max_depth=3, learning_rate=1, gamma=0.1, reg_lambda=20)\n",
    "improved_XGB_model.fit(X_train, y_train)\n",
    "\n",
    "# make predictions with new model\n",
    "improved_predictions = improved_XGB_model.predict(X_test)\n",
    "\n",
    "results_df_imp = pd.DataFrame({\"Actual\": y_test, \"Predicted\": improved_predictions})\n",
    "print(results_df_imp)"
   ]
  },
  {
   "cell_type": "code",
   "execution_count": 35,
   "id": "e4e4134f-ab23-4fb6-90e1-3ff7c5d6b568",
   "metadata": {},
   "outputs": [],
   "source": [
    "from sklearn.metrics import confusion_matrix\n",
    "import seaborn as sns\n",
    "import matplotlib.pyplot as plt\n",
    "from sklearn.metrics import classification_report"
   ]
  },
  {
   "cell_type": "markdown",
   "id": "87523515-2df2-43ad-894c-58d1a07bd5ad",
   "metadata": {},
   "source": [
    "<br>"
   ]
  },
  {
   "cell_type": "markdown",
   "id": "6509d2cc-b31f-48bd-9604-c2c5ae90ce13",
   "metadata": {},
   "source": [
    "### Confusion Matrix"
   ]
  },
  {
   "cell_type": "code",
   "execution_count": 34,
   "id": "be3084f4-8455-4ceb-ba85-4d447d47718d",
   "metadata": {},
   "outputs": [
    {
     "data": {
      "image/png": "[encoded data removed]",
      "text/plain": [
       "<Figure size 800x600 with 2 Axes>"
      ]
     },
     "metadata": {},
     "output_type": "display_data"
    }
   ],
   "source": [
    "# build Confusion Matrix\n",
    "conf_matrix = confusion_matrix(improved_predictions, y_pred)\n",
    "\n",
    "# print Confusion Martix\n",
    "plt.figure(figsize=(8, 6))\n",
    "sns.heatmap(conf_matrix, annot=True, fmt='d', cmap='Blues', xticklabels=[0, 1, 2, 3, 4], yticklabels=[0, 1, 2, 3, 4])\n",
    "plt.xlabel('Predicted')\n",
    "plt.ylabel('True')\n",
    "plt.title('Confusion Matrix')\n",
    "plt.show()"
   ]
  },
  {
   "cell_type": "markdown",
   "id": "9614c240-938f-4152-9bc0-0fdc5beca8c5",
   "metadata": {},
   "source": [
    "<br>"
   ]
  },
  {
   "cell_type": "markdown",
   "id": "3694efa3-942a-4949-a826-f2658bf9d21e",
   "metadata": {},
   "source": [
    "From the y-testing data we can see that everything got correctly classified, except 3 instances of the Type 3 (Flussstahl). The model has a hard time classifying Type 3 - Steels and often times classifies them into Type 1 (St 37). This is because the given Dataset only has 9 Instances of Type 3 which is not enough to train the model accodingly for that type. Since more data is not available, this is the best model we can create out of the given ressources. "
   ]
  },
  {
   "cell_type": "markdown",
   "id": "ae0b7783-dc50-4fa0-8e00-5d124cf3ed69",
   "metadata": {},
   "source": [
    "<br>"
   ]
  },
  {
   "cell_type": "markdown",
   "id": "3836cb4c-5c51-4454-94fa-498de21bcdd7",
   "metadata": {},
   "source": [
    "### Classification Report"
   ]
  },
  {
   "cell_type": "code",
   "execution_count": 38,
   "id": "10d8b321-28ab-4591-80f5-1c78d7866064",
   "metadata": {},
   "outputs": [
    {
     "name": "stdout",
     "output_type": "stream",
     "text": [
      "              precision    recall  f1-score   support\n",
      "\n",
      "           0       0.95      1.00      0.97        54\n",
      "           1       0.93      0.81      0.87        16\n",
      "           2       1.00      1.00      1.00         8\n",
      "           3       0.83      1.00      0.91         5\n",
      "           4       1.00      0.60      0.75         5\n",
      "\n",
      "    accuracy                           0.94        88\n",
      "   macro avg       0.94      0.88      0.90        88\n",
      "weighted avg       0.95      0.94      0.94        88\n",
      "\n"
     ]
    }
   ],
   "source": [
    "report = classification_report(y_test, improved_predictions)\n",
    "print(report)"
   ]
  },
  {
   "cell_type": "markdown",
   "id": "647d1ea5-9d4d-46bc-b7cf-a71952b5cad6",
   "metadata": {},
   "source": [
    "<br>"
   ]
  },
  {
   "cell_type": "markdown",
   "id": "7d035ee6-d81b-4a4d-9027-20ec8a107304",
   "metadata": {},
   "source": [
    "## 8. Conclusion"
   ]
  },
  {
   "cell_type": "markdown",
   "id": "0178cee9-d529-4f79-b9d7-f61d2fd86dd0",
   "metadata": {},
   "source": [
    "<br>"
   ]
  },
  {
   "cell_type": "markdown",
   "id": "beda5311-4ca6-45d8-875a-4acdc092bbc3",
   "metadata": {},
   "source": [
    "**In this notebook, we successfully implemented and trained an XGBoost model for classifying steel types based on element compositions from steel samples. We followed a structured workflow, including data exploration, preprocessing, model training, Hyperparameter Optimization and further evaluation.**"
   ]
  },
  {
   "cell_type": "markdown",
   "id": "5bbef3ad-7ae6-441f-afcd-85ddd47ecbc1",
   "metadata": {},
   "source": [
    "Key Findings:\n",
    "- Our XGBoost model achieved a commendable performance in classifying steel types with an accuracy of 97.25%.\n",
    "- The classification report and confusion matrix provided detailed insights into the model's precision, recall, and overall accuracy for each steel type.\n",
    "- We observed a lack of Flussstahl-samples during our analysis, which could not be compensated with the given ressources.\n"
   ]
  },
  {
   "cell_type": "markdown",
   "id": "103427f7-1a76-48ee-b290-7de3330acccd",
   "metadata": {},
   "source": [
    "<br>"
   ]
  }
 ],
 "metadata": {
  "kernelspec": {
   "display_name": "Python 3 (ipykernel)",
   "language": "python",
   "name": "python3"
  },
  "language_info": {
   "codemirror_mode": {
    "name": "ipython",
    "version": 3
   },
   "file_extension": ".py",
   "mimetype": "text/x-python",
   "name": "python",
   "nbconvert_exporter": "python",
   "pygments_lexer": "ipython3",
   "version": "3.12.0"
  }
 },
 "nbformat": 4,
 "nbformat_minor": 5
}
